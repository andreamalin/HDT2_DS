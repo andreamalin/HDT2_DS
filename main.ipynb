{
 "cells": [
  {
   "cell_type": "code",
   "execution_count": 6,
   "metadata": {},
   "outputs": [],
   "source": [
    "import pandas as pd\n",
    "import matplotlib.pyplot as plt\n",
    "from statsmodels.tsa.seasonal import seasonal_decompose\n",
    "from statsmodels.tsa.stattools import adfuller\n",
    "from statsmodels.tsa.stattools import acf, pacf\n",
    "import numpy as np"
   ]
  },
  {
   "cell_type": "markdown",
   "metadata": {},
   "source": [
    "# Exploración de Datos"
   ]
  },
  {
   "cell_type": "code",
   "execution_count": 21,
   "metadata": {},
   "outputs": [],
   "source": [
    "df = pd.read_excel('consumo.xlsx', engine='openpyxl')\n",
    "df = df[['Fecha', 'Gasolina superior', 'Gasolina regular', 'Diesel']]"
   ]
  },
  {
   "cell_type": "code",
   "execution_count": 25,
   "metadata": {},
   "outputs": [
    {
     "data": {
      "text/html": [
       "<div>\n",
       "<style scoped>\n",
       "    .dataframe tbody tr th:only-of-type {\n",
       "        vertical-align: middle;\n",
       "    }\n",
       "\n",
       "    .dataframe tbody tr th {\n",
       "        vertical-align: top;\n",
       "    }\n",
       "\n",
       "    .dataframe thead th {\n",
       "        text-align: right;\n",
       "    }\n",
       "</style>\n",
       "<table border=\"1\" class=\"dataframe\">\n",
       "  <thead>\n",
       "    <tr style=\"text-align: right;\">\n",
       "      <th></th>\n",
       "      <th>Fecha</th>\n",
       "      <th>Gasolina superior</th>\n",
       "      <th>Gasolina regular</th>\n",
       "      <th>Diesel</th>\n",
       "    </tr>\n",
       "  </thead>\n",
       "  <tbody>\n",
       "    <tr>\n",
       "      <th>0</th>\n",
       "      <td>2000-01-01 00:00:00</td>\n",
       "      <td>308157</td>\n",
       "      <td>202645</td>\n",
       "      <td>634667</td>\n",
       "    </tr>\n",
       "    <tr>\n",
       "      <th>1</th>\n",
       "      <td>2000-02-01 00:00:00</td>\n",
       "      <td>307766</td>\n",
       "      <td>205531</td>\n",
       "      <td>642381</td>\n",
       "    </tr>\n",
       "    <tr>\n",
       "      <th>2</th>\n",
       "      <td>2000-03-01 00:00:00</td>\n",
       "      <td>331910</td>\n",
       "      <td>229500</td>\n",
       "      <td>699807</td>\n",
       "    </tr>\n",
       "    <tr>\n",
       "      <th>3</th>\n",
       "      <td>2000-04-01 00:00:00</td>\n",
       "      <td>315648</td>\n",
       "      <td>210680</td>\n",
       "      <td>586804</td>\n",
       "    </tr>\n",
       "    <tr>\n",
       "      <th>4</th>\n",
       "      <td>2000-05-01 00:00:00</td>\n",
       "      <td>319668</td>\n",
       "      <td>208164</td>\n",
       "      <td>656948</td>\n",
       "    </tr>\n",
       "    <tr>\n",
       "      <th>...</th>\n",
       "      <td>...</td>\n",
       "      <td>...</td>\n",
       "      <td>...</td>\n",
       "      <td>...</td>\n",
       "    </tr>\n",
       "    <tr>\n",
       "      <th>264</th>\n",
       "      <td>2022-01-01 00:00:00</td>\n",
       "      <td>622475</td>\n",
       "      <td>684004</td>\n",
       "      <td>1.29426e+06</td>\n",
       "    </tr>\n",
       "    <tr>\n",
       "      <th>265</th>\n",
       "      <td>2022-02-01 00:00:00</td>\n",
       "      <td>592075</td>\n",
       "      <td>660944</td>\n",
       "      <td>1.27576e+06</td>\n",
       "    </tr>\n",
       "    <tr>\n",
       "      <th>266</th>\n",
       "      <td>2022-03-01 00:00:00</td>\n",
       "      <td>599582</td>\n",
       "      <td>703128</td>\n",
       "      <td>1.3452e+06</td>\n",
       "    </tr>\n",
       "    <tr>\n",
       "      <th>267</th>\n",
       "      <td>2022-04-01 00:00:00</td>\n",
       "      <td>566128</td>\n",
       "      <td>807440</td>\n",
       "      <td>1.29416e+06</td>\n",
       "    </tr>\n",
       "    <tr>\n",
       "      <th>268</th>\n",
       "      <td>2022-05-01 00:00:00</td>\n",
       "      <td>486297</td>\n",
       "      <td>796812</td>\n",
       "      <td>1.11925e+06</td>\n",
       "    </tr>\n",
       "  </tbody>\n",
       "</table>\n",
       "<p>269 rows × 4 columns</p>\n",
       "</div>"
      ],
      "text/plain": [
       "                   Fecha Gasolina superior Gasolina regular       Diesel\n",
       "0    2000-01-01 00:00:00            308157           202645       634667\n",
       "1    2000-02-01 00:00:00            307766           205531       642381\n",
       "2    2000-03-01 00:00:00            331910           229500       699807\n",
       "3    2000-04-01 00:00:00            315648           210680       586804\n",
       "4    2000-05-01 00:00:00            319668           208164       656948\n",
       "..                   ...               ...              ...          ...\n",
       "264  2022-01-01 00:00:00            622475           684004  1.29426e+06\n",
       "265  2022-02-01 00:00:00            592075           660944  1.27576e+06\n",
       "266  2022-03-01 00:00:00            599582           703128   1.3452e+06\n",
       "267  2022-04-01 00:00:00            566128           807440  1.29416e+06\n",
       "268  2022-05-01 00:00:00            486297           796812  1.11925e+06\n",
       "\n",
       "[269 rows x 4 columns]"
      ]
     },
     "execution_count": 25,
     "metadata": {},
     "output_type": "execute_result"
    }
   ],
   "source": [
    "df = df[:269]\n",
    "df"
   ]
  },
  {
   "cell_type": "code",
   "execution_count": null,
   "metadata": {},
   "outputs": [],
   "source": []
  }
 ],
 "metadata": {
  "kernelspec": {
   "display_name": "Python 3.7.0 64-bit",
   "language": "python",
   "name": "python3"
  },
  "language_info": {
   "codemirror_mode": {
    "name": "ipython",
    "version": 3
   },
   "file_extension": ".py",
   "mimetype": "text/x-python",
   "name": "python",
   "nbconvert_exporter": "python",
   "pygments_lexer": "ipython3",
   "version": "3.7.0"
  },
  "orig_nbformat": 4,
  "vscode": {
   "interpreter": {
    "hash": "8fa13260b2ad5da8a92d4362f230c03eee7b3dfd5b47a73cfd4853277a201fcb"
   }
  }
 },
 "nbformat": 4,
 "nbformat_minor": 2
}
