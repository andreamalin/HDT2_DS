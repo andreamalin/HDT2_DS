{
 "cells": [
  {
   "cell_type": "code",
   "execution_count": null,
   "metadata": {},
   "outputs": [],
   "source": [
    "import pandas as pd\n",
    "import matplotlib.pyplot as plt\n",
    "from scipy import stats\n",
    "from statsmodels.tsa.seasonal import seasonal_decompose\n",
    "from statsmodels.tsa.stattools import adfuller\n",
    "from statsmodels.tsa.stattools import acf, pacf\n",
    "import numpy as np\n",
    "import seaborn as sns\n",
    "import matplotlib.pyplot as plt\n",
    "pd.options.mode.chained_assignment = None  # default='warn'"
   ]
  },
  {
   "cell_type": "markdown",
   "metadata": {},
   "source": [
    "# Exploración de Datos"
   ]
  },
  {
   "cell_type": "code",
   "execution_count": null,
   "metadata": {},
   "outputs": [],
   "source": [
    "dfToUse = \"consumo\"\n",
    "\n",
    "def returnQuantRows(dfToUse):\n",
    "    if (dfToUse == 'consumo'):\n",
    "        return 269 \n",
    "    return 257\n",
    "\n",
    "toUse = returnQuantRows(dfToUse)"
   ]
  },
  {
   "cell_type": "code",
   "execution_count": null,
   "metadata": {},
   "outputs": [],
   "source": [
    "df = pd.read_excel(dfToUse+'.xlsx', engine='openpyxl')\n",
    "df = df[['Fecha', 'Gasolina superior', 'Gasolina regular', 'Diesel']]"
   ]
  },
  {
   "cell_type": "code",
   "execution_count": null,
   "metadata": {},
   "outputs": [],
   "source": [
    "df = df[:257]\n",
    "df['Fecha'] = pd.to_datetime(df['Fecha'])"
   ]
  },
  {
   "cell_type": "code",
   "execution_count": null,
   "metadata": {},
   "outputs": [],
   "source": [
    "df"
   ]
  },
  {
   "cell_type": "code",
   "execution_count": null,
   "metadata": {},
   "outputs": [],
   "source": [
    "quant_vars = ['Gasolina superior', 'Gasolina regular', 'Diesel']\n",
    "df[quant_vars].astype(float).describe()"
   ]
  },
  {
   "cell_type": "code",
   "execution_count": null,
   "metadata": {},
   "outputs": [],
   "source": [
    "for var in quant_vars:\n",
    "    data = df[var].dropna(how='all', axis=0)\n",
    "    \n",
    "    # Gráfico\n",
    "    sns.displot(data, kde=True)\n",
    "    print('\\033[1m' + var + '\\033[0m' + ': Kurtosis:', stats.kurtosis(data), 'Skewness:', stats.skew(data), '\\n')\n"
   ]
  },
  {
   "cell_type": "markdown",
   "metadata": {},
   "source": [
    "# Por año"
   ]
  },
  {
   "cell_type": "code",
   "execution_count": null,
   "metadata": {},
   "outputs": [],
   "source": [
    "plt.rcParams[\"figure.figsize\"] = (20,5.5)\n",
    "\n",
    "for gas in quant_vars:\n",
    "    x = df['Fecha']\n",
    "    y = df[gas]\n",
    "\n",
    "    plt.title(dfToUse+\" 2000-2022\")\n",
    "    # beautify the x-labels\n",
    "    plt.gcf().autofmt_xdate()\n",
    "    plt.xlabel(gas)\n",
    "\n",
    "\n",
    "    plt.plot(x, y)\n",
    "    plt.show()"
   ]
  },
  {
   "cell_type": "markdown",
   "metadata": {},
   "source": [
    "# Por mes"
   ]
  },
  {
   "cell_type": "code",
   "execution_count": null,
   "metadata": {},
   "outputs": [],
   "source": [
    "dfPerMonth = df.groupby(df['Fecha'].dt.month)\n",
    "dfPerMonth = dfPerMonth.sum()"
   ]
  },
  {
   "cell_type": "code",
   "execution_count": null,
   "metadata": {},
   "outputs": [],
   "source": [
    "plt.rcParams[\"figure.figsize\"] = (20,5.5)\n",
    "\n",
    "for gas in quant_vars:\n",
    "    x = dfPerMonth.index\n",
    "    y = dfPerMonth[gas]\n",
    "\n",
    "\n",
    "    plt.title(dfToUse+\" por mes\")\n",
    "    # beautify the x-labels\n",
    "    plt.gcf().autofmt_xdate()\n",
    "    plt.xlabel(gas)\n",
    "\n",
    "\n",
    "    plt.bar(x, y)\n",
    "    plt.show()"
   ]
  },
  {
   "cell_type": "markdown",
   "metadata": {},
   "source": [
    "# Comportamiento en la pandemia"
   ]
  },
  {
   "cell_type": "code",
   "execution_count": null,
   "metadata": {},
   "outputs": [],
   "source": [
    "plt.rcParams[\"figure.figsize\"] = (20,5.5)\n",
    "quant_to_have = 12\n",
    "\n",
    "for gas in quant_vars:\n",
    "    x = df['Fecha'].tail(quant_to_have * 3)\n",
    "    y = df[gas].tail(quant_to_have * 3)\n",
    "\n",
    "    plt.title(dfToUse+\" durante pandemia\")\n",
    "    # beautify the x-labels\n",
    "    plt.gcf().autofmt_xdate()\n",
    "    plt.xlabel(gas)\n",
    "\n",
    "\n",
    "    plt.plot(x, y)\n",
    "    plt.show()"
   ]
  },
  {
   "cell_type": "markdown",
   "metadata": {},
   "source": [
    "# Separando test y train"
   ]
  },
  {
   "cell_type": "code",
   "execution_count": null,
   "metadata": {},
   "outputs": [],
   "source": [
    "rows = len(df)\n",
    "train_df = df[0:rows-17]\n",
    "test_df = df[rows-17:]\n",
    "print(len(train_df), len(test_df))"
   ]
  },
  {
   "cell_type": "markdown",
   "metadata": {},
   "source": [
    "## Pasos para construir modelos ARIMA\n",
    "1. Identificación\n",
    "2. Estimación\n",
    "3. Validación\n",
    "4. Predicción"
   ]
  },
  {
   "cell_type": "code",
   "execution_count": null,
   "metadata": {},
   "outputs": [],
   "source": [
    "def make_timeline(column):\n",
    "  plt.rcParams[\"figure.figsize\"] = (20,5.5)\n",
    "  mediaGasoline = train_df[column].rolling(window=12).mean()\n",
    "  deGasoline = train_df[column].rolling(window=12).std()\n",
    "\n",
    "  original = plt.plot(train_df[column], color=\"blue\", label=\"Original\")\n",
    "  media = plt.plot(mediaGasoline, color='red', label = 'Media ' + dfToUse)\n",
    "  ds = plt.plot(deGasoline, color='black', label = 'Desviación Estándar ' + dfToUse)\n",
    "  plt.legend(loc = 'best')\n",
    "  plt.title('Media y desviación estándar ' + column)\n",
    "  plt.show(block=False)"
   ]
  },
  {
   "cell_type": "code",
   "execution_count": null,
   "metadata": {},
   "outputs": [],
   "source": [
    "make_timeline('Gasolina regular')"
   ]
  },
  {
   "cell_type": "code",
   "execution_count": null,
   "metadata": {},
   "outputs": [],
   "source": [
    "make_timeline('Gasolina superior')"
   ]
  },
  {
   "cell_type": "code",
   "execution_count": null,
   "metadata": {},
   "outputs": [],
   "source": [
    "make_timeline('Diesel')"
   ]
  },
  {
   "cell_type": "code",
   "execution_count": null,
   "metadata": {},
   "outputs": [],
   "source": [
    "train_regular = train_df[['Fecha', 'Gasolina regular']]\n",
    "train_superior = train_df[['Fecha', 'Gasolina superior']]\n",
    "train_diesel = train_df[['Fecha', 'Diesel']]"
   ]
  },
  {
   "cell_type": "code",
   "execution_count": null,
   "metadata": {},
   "outputs": [],
   "source": [
    "# Gasolina regular\n",
    "train_regular['Gasolina regular'] = train_regular['Gasolina regular'].astype(float)\n",
    "train_regular_indexed = train_regular.set_index(['Fecha'])\n",
    "# Gasolina superior\n",
    "train_superior['Gasolina superior'] = train_superior['Gasolina superior'].astype(float)\n",
    "train_superior_indexed = train_superior.set_index(['Fecha'])\n",
    "# Gasolina diesel\n",
    "train_diesel['Diesel'] = train_diesel['Diesel'].astype(float)\n",
    "train_diesel_indexed = train_diesel.set_index(['Fecha'])"
   ]
  },
  {
   "cell_type": "code",
   "execution_count": null,
   "metadata": {},
   "outputs": [],
   "source": [
    "descomposicion = seasonal_decompose(train_regular_indexed)\n",
    "descomposicion.plot()"
   ]
  },
  {
   "cell_type": "code",
   "execution_count": null,
   "metadata": {},
   "outputs": [],
   "source": [
    "descomposicion = seasonal_decompose(train_superior_indexed)\n",
    "descomposicion.plot()"
   ]
  },
  {
   "cell_type": "code",
   "execution_count": null,
   "metadata": {},
   "outputs": [],
   "source": [
    "descomposicion = seasonal_decompose(train_diesel_indexed)\n",
    "descomposicion.plot()"
   ]
  }
 ],
 "metadata": {
  "kernelspec": {
   "display_name": "Python 3.10.4 64-bit",
   "language": "python",
   "name": "python3"
  },
  "language_info": {
   "codemirror_mode": {
    "name": "ipython",
    "version": 3
   },
   "file_extension": ".py",
   "mimetype": "text/x-python",
   "name": "python",
   "nbconvert_exporter": "python",
   "pygments_lexer": "ipython3",
   "version": "3.10.4"
  },
  "orig_nbformat": 4,
  "vscode": {
   "interpreter": {
    "hash": "0a8e74bc410295dd7b3e2a92a04bda485b935e7c35103812674b9cdd1b25ea1a"
   }
  }
 },
 "nbformat": 4,
 "nbformat_minor": 2
}
