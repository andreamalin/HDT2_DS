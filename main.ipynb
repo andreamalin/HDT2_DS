{
 "cells": [
  {
   "cell_type": "code",
   "execution_count": null,
   "metadata": {},
   "outputs": [],
   "source": [
    "import pandas as pd\n",
    "import matplotlib.pyplot as plt\n",
    "from scipy import stats\n",
    "from statsmodels.tsa.seasonal import seasonal_decompose\n",
    "from statsmodels.tsa.stattools import adfuller\n",
    "from statsmodels.tsa.stattools import acf, pacf\n",
    "import numpy as np\n",
    "import seaborn as sns\n",
    "import matplotlib.pyplot as plt\n",
    "from statsmodels.tsa.arima_model import ARIMA\n",
    "from statsmodels.tsa.statespace.sarimax import SARIMAX\n",
    "pd.options.mode.chained_assignment = None  # default='warn'"
   ]
  },
  {
   "cell_type": "markdown",
   "metadata": {},
   "source": [
    "# Exploración de Datos"
   ]
  },
  {
   "cell_type": "code",
   "execution_count": null,
   "metadata": {},
   "outputs": [],
   "source": [
    "dfToUse = \"consumo\"\n",
    "\n",
    "def returnQuantRows(dfToUse):\n",
    "    if (dfToUse == 'consumo'):\n",
    "        return 269 \n",
    "    return 257\n",
    "\n",
    "toUse = returnQuantRows(dfToUse)"
   ]
  },
  {
   "cell_type": "code",
   "execution_count": null,
   "metadata": {},
   "outputs": [],
   "source": [
    "df = pd.read_excel(dfToUse+'.xlsx', engine='openpyxl')\n",
    "df = df[['Fecha', 'Gasolina superior', 'Gasolina regular', 'Diesel']]"
   ]
  },
  {
   "cell_type": "code",
   "execution_count": null,
   "metadata": {},
   "outputs": [],
   "source": [
    "df = df[:toUse]\n",
    "df['Fecha'] = pd.to_datetime(df['Fecha'])"
   ]
  },
  {
   "cell_type": "code",
   "execution_count": null,
   "metadata": {},
   "outputs": [],
   "source": [
    "df"
   ]
  },
  {
   "cell_type": "code",
   "execution_count": null,
   "metadata": {},
   "outputs": [],
   "source": [
    "quant_vars = ['Gasolina superior', 'Gasolina regular', 'Diesel']\n",
    "df[quant_vars].astype(float).describe()"
   ]
  },
  {
   "cell_type": "code",
   "execution_count": null,
   "metadata": {},
   "outputs": [],
   "source": [
    "for var in quant_vars:\n",
    "    data = df[var].dropna(how='all', axis=0)\n",
    "    \n",
    "    # Gráfico\n",
    "    sns.displot(data, kde=True)\n",
    "    # print('\\033[1m' + var + '\\033[0m' + ': Kurtosis:', stats.kurtosis(data), 'Skewness:', stats.skew(data), '\\n')\n"
   ]
  },
  {
   "cell_type": "markdown",
   "metadata": {},
   "source": [
    "# Por año"
   ]
  },
  {
   "cell_type": "code",
   "execution_count": null,
   "metadata": {},
   "outputs": [],
   "source": [
    "plt.rcParams[\"figure.figsize\"] = (20,5.5)\n",
    "\n",
    "for gas in quant_vars:\n",
    "    x = df['Fecha']\n",
    "    y = df[gas]\n",
    "\n",
    "    plt.title(dfToUse+\" 2000-2022\")\n",
    "    # beautify the x-labels\n",
    "    plt.gcf().autofmt_xdate()\n",
    "    plt.xlabel(gas)\n",
    "\n",
    "\n",
    "    plt.plot(x, y)\n",
    "    plt.show()"
   ]
  },
  {
   "cell_type": "markdown",
   "metadata": {},
   "source": [
    "# Por mes"
   ]
  },
  {
   "cell_type": "code",
   "execution_count": null,
   "metadata": {},
   "outputs": [],
   "source": [
    "dfPerMonth = df.groupby(df['Fecha'].dt.month)\n",
    "dfPerMonth = dfPerMonth.sum()"
   ]
  },
  {
   "cell_type": "code",
   "execution_count": null,
   "metadata": {},
   "outputs": [],
   "source": [
    "plt.rcParams[\"figure.figsize\"] = (20,5.5)\n",
    "\n",
    "for gas in quant_vars:\n",
    "    x = dfPerMonth.index\n",
    "    y = dfPerMonth[gas]\n",
    "\n",
    "\n",
    "    plt.title(dfToUse+\" por mes\")\n",
    "    # beautify the x-labels\n",
    "    plt.gcf().autofmt_xdate()\n",
    "    plt.xlabel(gas)\n",
    "\n",
    "\n",
    "    plt.bar(x, y)\n",
    "    plt.show()"
   ]
  },
  {
   "cell_type": "markdown",
   "metadata": {},
   "source": [
    "# Comportamiento en la pandemia"
   ]
  },
  {
   "cell_type": "code",
   "execution_count": null,
   "metadata": {},
   "outputs": [],
   "source": [
    "plt.rcParams[\"figure.figsize\"] = (20,5.5)\n",
    "quant_to_have = 12\n",
    "\n",
    "for gas in quant_vars:\n",
    "    x = df['Fecha'].tail(quant_to_have * 3)\n",
    "    y = df[gas].tail(quant_to_have * 3)\n",
    "\n",
    "    plt.title(dfToUse+\" durante pandemia\")\n",
    "    # beautify the x-labels\n",
    "    plt.gcf().autofmt_xdate()\n",
    "    plt.xlabel(gas)\n",
    "\n",
    "\n",
    "    plt.plot(x, y)\n",
    "    plt.show()"
   ]
  },
  {
   "cell_type": "markdown",
   "metadata": {},
   "source": [
    "# Separando test y train"
   ]
  },
  {
   "cell_type": "code",
   "execution_count": null,
   "metadata": {},
   "outputs": [],
   "source": [
    "rows"
   ]
  },
  {
   "cell_type": "code",
   "execution_count": null,
   "metadata": {},
   "outputs": [],
   "source": [
    "rows = len(df)\n",
    "train_df = df[0:rows-17]\n",
    "test_df = df[rows-17:]\n",
    "print(len(train_df), len(test_df))"
   ]
  },
  {
   "cell_type": "markdown",
   "metadata": {},
   "source": [
    "## Pasos para construir modelos ARIMA\n",
    "1. Identificación\n",
    "2. Estimación\n",
    "3. Validación\n",
    "4. Predicción"
   ]
  },
  {
   "cell_type": "code",
   "execution_count": null,
   "metadata": {},
   "outputs": [],
   "source": [
    "def make_timeline(column):\n",
    "  plt.rcParams[\"figure.figsize\"] = (20,5.5)\n",
    "  mediaGasoline = train_df[column].rolling(window=12).mean()\n",
    "  deGasoline = train_df[column].rolling(window=12).std()\n",
    "\n",
    "  original = plt.plot(train_df[column], color=\"blue\", label=\"Original\")\n",
    "  media = plt.plot(mediaGasoline, color='red', label = 'Media ' + dfToUse)\n",
    "  ds = plt.plot(deGasoline, color='black', label = 'Desviación Estándar ' + dfToUse)\n",
    "  plt.legend(loc = 'best')\n",
    "  plt.title('Media y desviación estándar ' + column)\n",
    "  plt.show(block=False)"
   ]
  },
  {
   "cell_type": "code",
   "execution_count": null,
   "metadata": {},
   "outputs": [],
   "source": [
    "make_timeline('Gasolina regular')"
   ]
  },
  {
   "cell_type": "code",
   "execution_count": null,
   "metadata": {},
   "outputs": [],
   "source": [
    "make_timeline('Gasolina superior')"
   ]
  },
  {
   "cell_type": "code",
   "execution_count": null,
   "metadata": {},
   "outputs": [],
   "source": [
    "make_timeline('Diesel')"
   ]
  },
  {
   "cell_type": "code",
   "execution_count": null,
   "metadata": {},
   "outputs": [],
   "source": [
    "train_regular = train_df[['Fecha', 'Gasolina regular']]\n",
    "train_superior = train_df[['Fecha', 'Gasolina superior']]\n",
    "train_diesel = train_df[['Fecha', 'Diesel']]"
   ]
  },
  {
   "cell_type": "code",
   "execution_count": null,
   "metadata": {},
   "outputs": [],
   "source": [
    "# Gasolina regular\n",
    "train_regular['Gasolina regular'] = train_regular['Gasolina regular'].astype(float)\n",
    "train_regular_indexed = train_regular.set_index(['Fecha'])\n",
    "# Gasolina superior\n",
    "train_superior['Gasolina superior'] = train_superior['Gasolina superior'].astype(float)\n",
    "train_superior_indexed = train_superior.set_index(['Fecha'])\n",
    "# Gasolina diesel\n",
    "train_diesel['Diesel'] = train_diesel['Diesel'].astype(float)\n",
    "train_diesel_indexed = train_diesel.set_index(['Fecha'])"
   ]
  },
  {
   "cell_type": "code",
   "execution_count": null,
   "metadata": {},
   "outputs": [],
   "source": [
    "train_regular_indexed"
   ]
  },
  {
   "cell_type": "code",
   "execution_count": null,
   "metadata": {},
   "outputs": [],
   "source": [
    "descomposicion = seasonal_decompose(train_regular_indexed)\n",
    "descomposicion.plot()"
   ]
  },
  {
   "cell_type": "code",
   "execution_count": null,
   "metadata": {},
   "outputs": [],
   "source": [
    "descomposicion = seasonal_decompose(train_superior_indexed)\n",
    "descomposicion.plot()"
   ]
  },
  {
   "cell_type": "code",
   "execution_count": null,
   "metadata": {},
   "outputs": [],
   "source": [
    "descomposicion = seasonal_decompose(train_diesel_indexed)\n",
    "descomposicion.plot()"
   ]
  },
  {
   "cell_type": "markdown",
   "metadata": {},
   "source": [
    "# Estimación"
   ]
  },
  {
   "cell_type": "code",
   "execution_count": null,
   "metadata": {},
   "outputs": [],
   "source": [
    "train_regular_indexed = train_regular_indexed[0:240].append(train_regular_indexed[248:])\n",
    "train_superior_indexed = train_superior[0:240].append(train_regular_indexed[248:])\n",
    "train_diesel_indexed = train_diesel[0:240].append(train_regular_indexed[248:])"
   ]
  },
  {
   "cell_type": "code",
   "execution_count": null,
   "metadata": {},
   "outputs": [],
   "source": [
    "train_regular_indexed"
   ]
  },
  {
   "cell_type": "markdown",
   "metadata": {},
   "source": [
    "Estacionar en varianza"
   ]
  },
  {
   "cell_type": "code",
   "execution_count": null,
   "metadata": {},
   "outputs": [],
   "source": [
    "train_regular_gas = train_regular_indexed['Gasolina regular']"
   ]
  },
  {
   "cell_type": "code",
   "execution_count": null,
   "metadata": {},
   "outputs": [],
   "source": [
    "train_regular_log = np.log(train_regular_gas)\n",
    "plt.plot(train_regular_log)"
   ]
  },
  {
   "cell_type": "markdown",
   "metadata": {},
   "source": [
    "Con esta transformación pudimos estacionarizarla en varianza debido a que los picos se mantienen"
   ]
  },
  {
   "cell_type": "code",
   "execution_count": null,
   "metadata": {},
   "outputs": [],
   "source": [
    "print('Resultados del Test de Dickey Fuller')\n",
    "dfTest = adfuller(train_regular_gas, autolag='AIC')\n",
    "salidaDf = pd.Series(dfTest[0:4], index=['Estadístico de prueba','p-value','# de retardos usados','# de observaciones usadas'])\n",
    "for key,value in dfTest[4].items():\n",
    "        salidaDf['Critical Value (%s)'%key] = value\n",
    "print(salidaDf)"
   ]
  },
  {
   "cell_type": "markdown",
   "metadata": {},
   "source": [
    "El p-value es mayor a 0.05 por lo que no se puede rechazar la hipótesis nula de que existen raices unitarias. La serie no es estacionaria en media. Vamos a probar con una diferenciación"
   ]
  },
  {
   "cell_type": "code",
   "execution_count": null,
   "metadata": {},
   "outputs": [],
   "source": [
    "print('Resultados del Test de Dickey Fuller para una diferenciación de la serie')\n",
    "train_regular_gas_log_diff = train_regular_gas.diff()\n",
    "train_regular_gas_log_diff.dropna(inplace=True)\n",
    "dfTest = adfuller(train_regular_gas_log_diff)\n",
    "salidaDf = pd.Series(dfTest[0:4], index=['Estadístico de prueba','p-value','# de retardos usados','# de observaciones usadas'])\n",
    "for key,value in dfTest[4].items():\n",
    "        salidaDf['Critical Value (%s)'%key] = value\n",
    "print(salidaDf)"
   ]
  },
  {
   "cell_type": "markdown",
   "metadata": {},
   "source": [
    "El p-value es menor a 0.05 por lo que se rechaza la hipótesis nula. La serie es estacionaria en media con un d=1"
   ]
  },
  {
   "cell_type": "code",
   "execution_count": null,
   "metadata": {},
   "outputs": [],
   "source": [
    "plt.plot(train_regular_gas_log_diff)"
   ]
  },
  {
   "cell_type": "markdown",
   "metadata": {},
   "source": [
    "### Funciones de autocorrelación\n",
    "#### Modelos teóricos\n",
    "\n",
    "\n",
    "| Modelo    |                FAC                |                FACP               |\n",
    "|-----------|:---------------------------------:|:---------------------------------:|\n",
    "|   **MA(q)**   |         Se anula para j>q         | Decrecimiento rápido. No se anula |\n",
    "|   **AR(p)**   | Decrecimiento rápido. No se anula |         Se anula para j>p         |\n",
    "| **ARMA(p,q)** | Decrecimiento rápido. No se anula | Decrecimiento rápido. No se anula |  "
   ]
  },
  {
   "cell_type": "code",
   "execution_count": null,
   "metadata": {},
   "outputs": [],
   "source": [
    "train_regular_gas_diff = train_regular_log.diff()\n",
    "train_regular_gas_diff.dropna(inplace = True)\n",
    "tsa_acf = acf(train_regular_gas_diff,nlags=5,fft=False)\n",
    "tsa_pacf = pacf(train_regular_gas_diff, nlags=36)\n",
    "tsa_acf"
   ]
  },
  {
   "cell_type": "code",
   "execution_count": null,
   "metadata": {},
   "outputs": [],
   "source": [
    "\n",
    "plt.rcParams['figure.figsize'] = [15, 5]\n",
    "plt.rcParams['figure.dpi'] = 100 # 200 e.g. is really fine, but slower\n",
    "\n",
    "#Plot ACF: \n",
    "plt.subplot(121) \n",
    "plt.plot(acf(train_regular_gas_diff,nlags=36,fft=False))\n",
    "plt.axhline(y=0,linestyle='--',color='gray')\n",
    "plt.axhline(y=-1.96/np.sqrt(len(train_regular_gas_diff)),linestyle='--',color='gray')\n",
    "plt.axhline(y=1.96/np.sqrt(len(train_regular_gas_diff)),linestyle='--',color='gray')\n",
    "plt.title('Función de Autocorrelación con 36 retardos')\n",
    "\n",
    "plt.subplot(122) \n",
    "plt.plot(acf(train_regular_gas_diff,nlags=5,fft=False))\n",
    "plt.axhline(y=0,linestyle='--',color='gray')\n",
    "plt.axhline(y=-1.96/np.sqrt(len(train_regular_gas_diff)),linestyle='--',color='gray')\n",
    "plt.axhline(y=1.96/np.sqrt(len(train_regular_gas_diff)),linestyle='--',color='gray')\n",
    "plt.title('Función de Autocorrelación con 5 retardos')\n",
    "\n",
    "plt.tight_layout()"
   ]
  },
  {
   "cell_type": "code",
   "execution_count": null,
   "metadata": {},
   "outputs": [],
   "source": [
    "#plot PACF\n",
    "plt.subplot(121)\n",
    "plt.plot(pacf(train_regular_gas_diff, nlags=36))\n",
    "plt.axhline(y=0,linestyle='--',color='gray')\n",
    "plt.axhline(y=-1.96/np.sqrt(len(train_regular_gas_diff)),linestyle='--',color='gray')\n",
    "plt.axhline(y=1.96/np.sqrt(len(train_regular_gas_diff)),linestyle='--',color='gray')\n",
    "plt.title('Función de Autocorrelación Parcial 36 retardos')\n",
    "\n",
    "plt.subplot(122)\n",
    "plt.plot(pacf(train_regular_gas_diff, nlags=5))\n",
    "plt.axhline(y=0,linestyle='--',color='gray')\n",
    "plt.axhline(y=-1.96/np.sqrt(len(train_regular_gas_diff)),linestyle='--',color='gray')\n",
    "plt.axhline(y=1.96/np.sqrt(len(train_regular_gas_diff)),linestyle='--',color='gray')\n",
    "plt.title('Función de Autocorrelación Parcial 5 retardos')\n",
    "\n",
    "plt.rcParams['figure.figsize'] = [15, 5]\n",
    "plt.rcParams['figure.dpi'] = 100 # 200 e.g. is really fine, but slower"
   ]
  },
  {
   "cell_type": "code",
   "execution_count": null,
   "metadata": {},
   "outputs": [],
   "source": []
  },
  {
   "cell_type": "markdown",
   "metadata": {},
   "source": [
    "- Al verificar ACF el modelo no se anula\n",
    "- Al verificar PACF el modelo no se anula\n",
    "\n",
    "---> Se acerca a un ARMA"
   ]
  },
  {
   "cell_type": "markdown",
   "metadata": {},
   "source": [
    "#### Estacionalidad"
   ]
  },
  {
   "cell_type": "code",
   "execution_count": null,
   "metadata": {},
   "outputs": [],
   "source": [
    "plt.plot(acf(train_regular_gas_diff,nlags=36,fft=False))\n",
    "plt.axhline(y=0,linestyle='--',color='gray')\n",
    "plt.axhline(y=-1.96/np.sqrt(len(train_regular_gas_diff)),linestyle='--',color='gray')\n",
    "plt.axhline(y=1.96/np.sqrt(len(train_regular_gas_diff)),linestyle='--',color='gray')\n",
    "plt.title('Función de Autocorrelación con 36 retardos')\n",
    "plt.rcParams['figure.figsize'] = [15, 5]\n",
    "plt.rcParams['figure.dpi'] = 100 # 200 e.g. is really fine, but slower"
   ]
  },
  {
   "cell_type": "markdown",
   "metadata": {},
   "source": [
    "Como se puede observar el comportamiento es similar entre 3 - 12 y 15 - 24 (estacionalidad)"
   ]
  },
  {
   "cell_type": "code",
   "execution_count": null,
   "metadata": {},
   "outputs": [],
   "source": [
    "train_regular_log_diff = train_regular_log.diff(12)\n",
    "train_regular_log_diff.dropna(inplace=True)"
   ]
  },
  {
   "cell_type": "code",
   "execution_count": null,
   "metadata": {},
   "outputs": [],
   "source": [
    "\n",
    "plt.plot(pacf(train_regular_log_diff, nlags=8))\n",
    "plt.axhline(y=0,linestyle='--',color='gray')\n",
    "plt.axhline(y=-1.96/np.sqrt(len(train_regular_log_diff)),linestyle='--',color='gray')\n",
    "plt.axhline(y=1.96/np.sqrt(len(train_regular_log_diff)),linestyle='--',color='gray')\n",
    "plt.title('Función de Autocorrelación Parcial 8 retardos')\n"
   ]
  },
  {
   "cell_type": "markdown",
   "metadata": {},
   "source": [
    "Luego de hacer una diferenciación estacional, podemos observar que prácticamente se anulan los coeficientes después de p=3. \n",
    "- P = 3\n",
    "- D = 1\n",
    "- Q = 0"
   ]
  },
  {
   "cell_type": "markdown",
   "metadata": {},
   "source": [
    "### Analisis residuos"
   ]
  },
  {
   "cell_type": "code",
   "execution_count": null,
   "metadata": {},
   "outputs": [],
   "source": [
    "modelo121 = SARIMAX(train_regular_log, order=(1,2,1), seasonal_order=(3,1,0,12), enforce_stationarity=False, enforce_invertibility=False)\n",
    "resultado_m121 = modelo121.fit()\n",
    "print(resultado_m121.summary().tables[1])"
   ]
  },
  {
   "cell_type": "code",
   "execution_count": null,
   "metadata": {},
   "outputs": [],
   "source": [
    "resultado_m121.plot_diagnostics(figsize=(18, 8))\n",
    "plt.show()"
   ]
  },
  {
   "cell_type": "code",
   "execution_count": null,
   "metadata": {},
   "outputs": [],
   "source": [
    "modelo221 = SARIMAX(train_regular_log, order=(2,2,1), seasonal_order=(2,1,0,12), enforce_stationarity=False, enforce_invertibility=False)\n",
    "resultado_m221 = modelo221.fit()\n",
    "print(resultado_m221.summary().tables[1])"
   ]
  },
  {
   "cell_type": "code",
   "execution_count": null,
   "metadata": {},
   "outputs": [],
   "source": [
    "resultado_m221.plot_diagnostics(figsize=(18, 8))\n",
    "plt.show()"
   ]
  },
  {
   "cell_type": "code",
   "execution_count": null,
   "metadata": {},
   "outputs": [],
   "source": [
    "print(\"Resultados de AIC (Akaike information criterion)\")\n",
    "print(\"Modelo 121=\",resultado_m121.aic)\n",
    "print(\"Modelo 221=\",resultado_m221.aic)\n",
    "print(\"Resultados de BIC (Bayesian information criterion)\")\n",
    "print(\"Modelo 121=\",resultado_m121.bic)\n",
    "print(\"Modelo 221=\",resultado_m221.bic)"
   ]
  },
  {
   "cell_type": "markdown",
   "metadata": {},
   "source": [
    "De acuerdo a ambos indicadores es mejor el modelo p=2, d=2, q=1 por lo que este es el que será usado para predecir pues tinene un valor menor en AIC y en BIC"
   ]
  }
 ],
 "metadata": {
  "kernelspec": {
   "display_name": "Python 3.7.0 64-bit",
   "language": "python",
   "name": "python3"
  },
  "language_info": {
   "codemirror_mode": {
    "name": "ipython",
    "version": 3
   },
   "file_extension": ".py",
   "mimetype": "text/x-python",
   "name": "python",
   "nbconvert_exporter": "python",
   "pygments_lexer": "ipython3",
   "version": "3.7.0"
  },
  "orig_nbformat": 4,
  "vscode": {
   "interpreter": {
    "hash": "8fa13260b2ad5da8a92d4362f230c03eee7b3dfd5b47a73cfd4853277a201fcb"
   }
  }
 },
 "nbformat": 4,
 "nbformat_minor": 2
}
